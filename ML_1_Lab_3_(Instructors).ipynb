{
 "cells": [
  {
   "cell_type": "markdown",
   "id": "1a6ebf86-e107-451c-83a5-c24954e170e4",
   "metadata": {},
   "source": [
    "<i>Written by: Ahsan Khan, On behalf of Alberta Machine Intelligence Institute for the Al Pathways Partnership supported by Prairies Economic Development Canada</i>"
   ]
  },
  {
   "cell_type": "markdown",
   "id": "b3a6f436-7259-49e6-a3b8-f9e81e78e433",
   "metadata": {
    "id": "b3a6f436-7259-49e6-a3b8-f9e81e78e433"
   },
   "source": [
    "# Lab 3: Regression"
   ]
  },
  {
   "cell_type": "markdown",
   "id": "28d073c1-bd3a-428d-aa8a-2651b4724572",
   "metadata": {
    "id": "28d073c1-bd3a-428d-aa8a-2651b4724572"
   },
   "source": [
    "In this lab we will be working with three regression models. The type you pick depends on the relationship between the features and the target variables."
   ]
  },
  {
   "cell_type": "code",
   "execution_count": 1,
   "id": "80b7dd15-8c28-4348-8133-05abe2ed99c4",
   "metadata": {
    "id": "80b7dd15-8c28-4348-8133-05abe2ed99c4"
   },
   "outputs": [],
   "source": [
    "#Crucial data processing and analysis libraries\n",
    "import numpy as np\n",
    "import pandas as pd\n",
    "import matplotlib.pyplot as plt\n",
    "\n",
    "#Loading the modules required to build and evaluate a Regression model\n",
    "from sklearn.model_selection import train_test_split\n",
    "from sklearn.preprocessing import StandardScaler \n",
    "from sklearn.metrics import accuracy_score\n",
    "from sklearn.metrics import mean_squared_error\n",
    "from sklearn.metrics import r2_score\n",
    "\n",
    "\n",
    "#Loading the boston housing dataset from sklearn\n",
    "from sklearn.datasets import load_boston"
   ]
  },
  {
   "cell_type": "markdown",
   "id": "7f1d16cc-646c-4907-92e4-c510c530b44a",
   "metadata": {
    "id": "7f1d16cc-646c-4907-92e4-c510c530b44a"
   },
   "source": [
    "##### Preparing our Data (Boston housing)"
   ]
  },
  {
   "cell_type": "code",
   "execution_count": 2,
   "id": "037fe141-1b1c-4d14-a7fb-df458c3ff8d9",
   "metadata": {
    "id": "037fe141-1b1c-4d14-a7fb-df458c3ff8d9"
   },
   "outputs": [],
   "source": [
    "boston = load_boston()\n",
    "\n",
    "# The dependent variable. This is the Median value of owner-occupied homes in $1000's\n",
    "y = boston.target\n",
    "\n",
    "#Features\n",
    "X = boston.data"
   ]
  },
  {
   "cell_type": "code",
   "execution_count": 3,
   "id": "676f6c37-7cf7-4799-9663-963a05b70cc7",
   "metadata": {
    "id": "676f6c37-7cf7-4799-9663-963a05b70cc7",
    "outputId": "8897b2a6-644c-4bca-b98f-db197e6737b1"
   },
   "outputs": [
    {
     "data": {
      "text/html": [
       "<div>\n",
       "<style scoped>\n",
       "    .dataframe tbody tr th:only-of-type {\n",
       "        vertical-align: middle;\n",
       "    }\n",
       "\n",
       "    .dataframe tbody tr th {\n",
       "        vertical-align: top;\n",
       "    }\n",
       "\n",
       "    .dataframe thead th {\n",
       "        text-align: right;\n",
       "    }\n",
       "</style>\n",
       "<table border=\"1\" class=\"dataframe\">\n",
       "  <thead>\n",
       "    <tr style=\"text-align: right;\">\n",
       "      <th></th>\n",
       "      <th>CRIM</th>\n",
       "      <th>ZN</th>\n",
       "      <th>INDUS</th>\n",
       "      <th>CHAS</th>\n",
       "      <th>NOX</th>\n",
       "      <th>RM</th>\n",
       "      <th>AGE</th>\n",
       "      <th>DIS</th>\n",
       "      <th>RAD</th>\n",
       "      <th>TAX</th>\n",
       "      <th>PTRATIO</th>\n",
       "      <th>B</th>\n",
       "      <th>LSTAT</th>\n",
       "    </tr>\n",
       "  </thead>\n",
       "  <tbody>\n",
       "    <tr>\n",
       "      <th>0</th>\n",
       "      <td>0.00632</td>\n",
       "      <td>18.0</td>\n",
       "      <td>2.31</td>\n",
       "      <td>0.0</td>\n",
       "      <td>0.538</td>\n",
       "      <td>6.575</td>\n",
       "      <td>65.2</td>\n",
       "      <td>4.0900</td>\n",
       "      <td>1.0</td>\n",
       "      <td>296.0</td>\n",
       "      <td>15.3</td>\n",
       "      <td>396.90</td>\n",
       "      <td>4.98</td>\n",
       "    </tr>\n",
       "    <tr>\n",
       "      <th>1</th>\n",
       "      <td>0.02731</td>\n",
       "      <td>0.0</td>\n",
       "      <td>7.07</td>\n",
       "      <td>0.0</td>\n",
       "      <td>0.469</td>\n",
       "      <td>6.421</td>\n",
       "      <td>78.9</td>\n",
       "      <td>4.9671</td>\n",
       "      <td>2.0</td>\n",
       "      <td>242.0</td>\n",
       "      <td>17.8</td>\n",
       "      <td>396.90</td>\n",
       "      <td>9.14</td>\n",
       "    </tr>\n",
       "    <tr>\n",
       "      <th>2</th>\n",
       "      <td>0.02729</td>\n",
       "      <td>0.0</td>\n",
       "      <td>7.07</td>\n",
       "      <td>0.0</td>\n",
       "      <td>0.469</td>\n",
       "      <td>7.185</td>\n",
       "      <td>61.1</td>\n",
       "      <td>4.9671</td>\n",
       "      <td>2.0</td>\n",
       "      <td>242.0</td>\n",
       "      <td>17.8</td>\n",
       "      <td>392.83</td>\n",
       "      <td>4.03</td>\n",
       "    </tr>\n",
       "    <tr>\n",
       "      <th>3</th>\n",
       "      <td>0.03237</td>\n",
       "      <td>0.0</td>\n",
       "      <td>2.18</td>\n",
       "      <td>0.0</td>\n",
       "      <td>0.458</td>\n",
       "      <td>6.998</td>\n",
       "      <td>45.8</td>\n",
       "      <td>6.0622</td>\n",
       "      <td>3.0</td>\n",
       "      <td>222.0</td>\n",
       "      <td>18.7</td>\n",
       "      <td>394.63</td>\n",
       "      <td>2.94</td>\n",
       "    </tr>\n",
       "    <tr>\n",
       "      <th>4</th>\n",
       "      <td>0.06905</td>\n",
       "      <td>0.0</td>\n",
       "      <td>2.18</td>\n",
       "      <td>0.0</td>\n",
       "      <td>0.458</td>\n",
       "      <td>7.147</td>\n",
       "      <td>54.2</td>\n",
       "      <td>6.0622</td>\n",
       "      <td>3.0</td>\n",
       "      <td>222.0</td>\n",
       "      <td>18.7</td>\n",
       "      <td>396.90</td>\n",
       "      <td>5.33</td>\n",
       "    </tr>\n",
       "  </tbody>\n",
       "</table>\n",
       "</div>"
      ],
      "text/plain": [
       "      CRIM    ZN  INDUS  CHAS    NOX     RM   AGE     DIS  RAD    TAX  \\\n",
       "0  0.00632  18.0   2.31   0.0  0.538  6.575  65.2  4.0900  1.0  296.0   \n",
       "1  0.02731   0.0   7.07   0.0  0.469  6.421  78.9  4.9671  2.0  242.0   \n",
       "2  0.02729   0.0   7.07   0.0  0.469  7.185  61.1  4.9671  2.0  242.0   \n",
       "3  0.03237   0.0   2.18   0.0  0.458  6.998  45.8  6.0622  3.0  222.0   \n",
       "4  0.06905   0.0   2.18   0.0  0.458  7.147  54.2  6.0622  3.0  222.0   \n",
       "\n",
       "   PTRATIO       B  LSTAT  \n",
       "0     15.3  396.90   4.98  \n",
       "1     17.8  396.90   9.14  \n",
       "2     17.8  392.83   4.03  \n",
       "3     18.7  394.63   2.94  \n",
       "4     18.7  396.90   5.33  "
      ]
     },
     "execution_count": 3,
     "metadata": {},
     "output_type": "execute_result"
    }
   ],
   "source": [
    "df = pd.DataFrame(X,columns = boston.feature_names)\n",
    "df.head()"
   ]
  },
  {
   "cell_type": "markdown",
   "id": "1fd68f26-6a50-43a9-8e12-dfec2c7e761a",
   "metadata": {
    "id": "1fd68f26-6a50-43a9-8e12-dfec2c7e761a"
   },
   "source": [
    "##### What the features mean"
   ]
  },
  {
   "cell_type": "code",
   "execution_count": 4,
   "id": "cb3b67a2-9dcc-4cb5-bac0-41f86ba83c47",
   "metadata": {
    "id": "cb3b67a2-9dcc-4cb5-bac0-41f86ba83c47",
    "outputId": "137fe3e6-d2eb-478c-90fb-94ada6203053"
   },
   "outputs": [
    {
     "name": "stdout",
     "output_type": "stream",
     "text": [
      ".. _boston_dataset:\n",
      "\n",
      "Boston house prices dataset\n",
      "---------------------------\n",
      "\n",
      "**Data Set Characteristics:**  \n",
      "\n",
      "    :Number of Instances: 506 \n",
      "\n",
      "    :Number of Attributes: 13 numeric/categorical predictive. Median Value (attribute 14) is usually the target.\n",
      "\n",
      "    :Attribute Information (in order):\n",
      "        - CRIM     per capita crime rate by town\n",
      "        - ZN       proportion of residential land zoned for lots over 25,000 sq.ft.\n",
      "        - INDUS    proportion of non-retail business acres per town\n",
      "        - CHAS     Charles River dummy variable (= 1 if tract bounds river; 0 otherwise)\n",
      "        - NOX      nitric oxides concentration (parts per 10 million)\n",
      "        - RM       average number of rooms per dwelling\n",
      "        - AGE      proportion of owner-occupied units built prior to 1940\n",
      "        - DIS      weighted distances to five Boston employment centres\n",
      "        - RAD      index of accessibility to radial highways\n",
      "        - TAX      full-value property-tax rate per $10,000\n",
      "        - PTRATIO  pupil-teacher ratio by town\n",
      "        - B        1000(Bk - 0.63)^2 where Bk is the proportion of black people by town\n",
      "        - LSTAT    % lower status of the population\n",
      "        - MEDV     Median value of owner-occupied homes in $1000's\n",
      "\n",
      "    :Missing Attribute Values: None\n",
      "\n",
      "    :Creator: Harrison, D. and Rubinfeld, D.L.\n",
      "\n",
      "This is a copy of UCI ML housing dataset.\n",
      "https://archive.ics.uci.edu/ml/machine-learning-databases/housing/\n",
      "\n",
      "\n",
      "This dataset was taken from the StatLib library which is maintained at Carnegie Mellon University.\n",
      "\n",
      "The Boston house-price data of Harrison, D. and Rubinfeld, D.L. 'Hedonic\n",
      "prices and the demand for clean air', J. Environ. Economics & Management,\n",
      "vol.5, 81-102, 1978.   Used in Belsley, Kuh & Welsch, 'Regression diagnostics\n",
      "...', Wiley, 1980.   N.B. Various transformations are used in the table on\n",
      "pages 244-261 of the latter.\n",
      "\n",
      "The Boston house-price data has been used in many machine learning papers that address regression\n",
      "problems.   \n",
      "     \n",
      ".. topic:: References\n",
      "\n",
      "   - Belsley, Kuh & Welsch, 'Regression diagnostics: Identifying Influential Data and Sources of Collinearity', Wiley, 1980. 244-261.\n",
      "   - Quinlan,R. (1993). Combining Instance-Based and Model-Based Learning. In Proceedings on the Tenth International Conference of Machine Learning, 236-243, University of Massachusetts, Amherst. Morgan Kaufmann.\n",
      "\n"
     ]
    }
   ],
   "source": [
    "print(boston.DESCR)"
   ]
  },
  {
   "cell_type": "markdown",
   "id": "6570eb28-6b6e-40a0-86b3-506678f744ce",
   "metadata": {
    "id": "6570eb28-6b6e-40a0-86b3-506678f744ce",
    "tags": []
   },
   "source": [
    "## Lab Activity One: Linear Regression on One Variable"
   ]
  },
  {
   "cell_type": "markdown",
   "id": "5fc762cf-ca1f-46e3-a35d-57fb10a1e9cb",
   "metadata": {
    "id": "5fc762cf-ca1f-46e3-a35d-57fb10a1e9cb"
   },
   "source": [
    "The linear regression model is best used when there is a **linear** relationship between your features (``X``) and the your target (``Y``). The code cell below prepare the data for you for lab activity one."
   ]
  },
  {
   "cell_type": "code",
   "execution_count": 5,
   "id": "677059f1-daa0-4ddf-aa07-16fe8e2df8ae",
   "metadata": {
    "id": "677059f1-daa0-4ddf-aa07-16fe8e2df8ae",
    "outputId": "c8822511-16e6-4652-a46c-23d83c486371"
   },
   "outputs": [
    {
     "name": "stdout",
     "output_type": "stream",
     "text": [
      "(506, 1)\n",
      "(506,)\n"
     ]
    }
   ],
   "source": [
    "from sklearn.linear_model import LinearRegression\n",
    "\n",
    "# We will only apply linear regression on one of the features. \n",
    "#Here we are selecting the 'RM' column (Average number of rooms) from our dataset\n",
    "X = boston.data[:,5]\n",
    "\n",
    "# Reshaping the array to be in the proper format. The X array always has to be 2-dimensional as an input into the model along with a one dimensional target(y) array\n",
    "X = X.reshape(-1,1)\n",
    "\n",
    "print(X.shape)\n",
    "print(y.shape)"
   ]
  },
  {
   "cell_type": "markdown",
   "id": "zrndr0F_ZU48",
   "metadata": {
    "id": "zrndr0F_ZU48"
   },
   "source": [
    "> [A0] indicates an activity to be answered."
   ]
  },
  {
   "cell_type": "markdown",
   "id": "c04f440a-93b0-47a5-9386-0a1ff761eee8",
   "metadata": {
    "id": "c04f440a-93b0-47a5-9386-0a1ff761eee8"
   },
   "source": [
    "##### [A1] Plot a scatter plot of the Number of Rooms(X) vs the Price(y)."
   ]
  },
  {
   "cell_type": "code",
   "execution_count": 6,
   "id": "dd6df523-a4f9-4f13-a0aa-0065fd368c27",
   "metadata": {
    "id": "dd6df523-a4f9-4f13-a0aa-0065fd368c27",
    "outputId": "122f8351-5709-4ab1-bb16-11d1b30c5752"
   },
   "outputs": [
    {
     "data": {
      "image/png": "[encoded data removed]",
      "text/plain": [
       "<Figure size 432x288 with 1 Axes>"
      ]
     },
     "metadata": {
      "needs_background": "light"
     },
     "output_type": "display_data"
    }
   ],
   "source": [
    "plt.scatter(X, y,alpha=0.5)\n",
    "plt.show()"
   ]
  },
  {
   "cell_type": "markdown",
   "id": "034d8f94-2c7f-476f-b1d8-22a388bc8a25",
   "metadata": {
    "id": "034d8f94-2c7f-476f-b1d8-22a388bc8a25"
   },
   "source": [
    "##### [A2] Describe the relationship "
   ]
  },
  {
   "cell_type": "markdown",
   "id": "b74aee9c-1653-4568-b2db-98127d5ab4b4",
   "metadata": {
    "id": "b74aee9c-1653-4568-b2db-98127d5ab4b4"
   },
   "source": [
    "There is a visible linear relationship according to the scatter plot"
   ]
  },
  {
   "cell_type": "markdown",
   "id": "a6b55bb3-247b-43d7-b41a-3341886b3a37",
   "metadata": {
    "id": "a6b55bb3-247b-43d7-b41a-3341886b3a37"
   },
   "source": [
    "##### [A3] Split your data, Instantiate and Fit a lenear regression model"
   ]
  },
  {
   "cell_type": "code",
   "execution_count": 7,
   "id": "23c622e9-4639-4f49-be3d-f260b9a6840a",
   "metadata": {
    "id": "23c622e9-4639-4f49-be3d-f260b9a6840a",
    "outputId": "94384217-0965-49d2-f05b-0881d9da38cb"
   },
   "outputs": [
    {
     "data": {
      "text/plain": [
       "LinearRegression()"
      ]
     },
     "execution_count": 7,
     "metadata": {},
     "output_type": "execute_result"
    }
   ],
   "source": [
    "X_train, X_test, y_train, y_test = train_test_split(X,y,test_size=0.2)\n",
    "\n",
    "\n",
    "linear_regression_model = LinearRegression()\n",
    "linear_regression_model.fit(X_train, y_train)"
   ]
  },
  {
   "cell_type": "markdown",
   "id": "5e38d130-1f2b-4e07-b63e-df36f2e915a3",
   "metadata": {
    "id": "5e38d130-1f2b-4e07-b63e-df36f2e915a3"
   },
   "source": [
    "##### [A4] Get the intercept and the coefficient of our linear function. Recall ``y = mx + c``, where m is the coefficient and ``c`` is the intercept."
   ]
  },
  {
   "cell_type": "code",
   "execution_count": 8,
   "id": "59115bda-f23c-4449-a654-1ae62d06e1f9",
   "metadata": {
    "id": "59115bda-f23c-4449-a654-1ae62d06e1f9",
    "outputId": "03c480fe-2118-4680-ec98-e9d07fb82e03"
   },
   "outputs": [
    {
     "name": "stdout",
     "output_type": "stream",
     "text": [
      "Intercept: -32.57360536882743\n",
      "Coefficients:8.793220869044909\n"
     ]
    }
   ],
   "source": [
    "#Intercept (c)\n",
    "intercept = linear_regression_model.intercept_\n",
    "\n",
    "#Coefficient (m)\n",
    "coefficient = linear_regression_model.coef_[0]\n",
    "\n",
    "print(f'Intercept: {intercept}')\n",
    "print(f'Coefficients:{coefficient}')"
   ]
  },
  {
   "cell_type": "markdown",
   "id": "0b371037-840d-4d18-8610-f5bb3ab7bb09",
   "metadata": {
    "id": "0b371037-840d-4d18-8610-f5bb3ab7bb09"
   },
   "source": [
    "##### [A5] Plot another scatter plot of your ``X`` and ``y`` data again and this time add a line of best fit (``y = mx +c`` function)"
   ]
  },
  {
   "cell_type": "code",
   "execution_count": 9,
   "id": "e65d39f8-7a16-425e-875d-29b8559da168",
   "metadata": {
    "id": "e65d39f8-7a16-425e-875d-29b8559da168",
    "outputId": "317ecdb5-2762-4933-827d-a8b97eff48a6"
   },
   "outputs": [
    {
     "data": {
      "image/png": "[encoded data removed]",
      "text/plain": [
       "<Figure size 432x288 with 1 Axes>"
      ]
     },
     "metadata": {
      "needs_background": "light"
     },
     "output_type": "display_data"
    }
   ],
   "source": [
    "y_function = coefficient*X_train + intercept\n",
    "\n",
    "plt.scatter(X_train, y_train,  alpha = 0.5)\n",
    "plt.plot(X_train, y_function, color='green')\n",
    "plt.show()"
   ]
  },
  {
   "cell_type": "markdown",
   "id": "b044c388-8605-490c-a60b-8d4e87fb1bd9",
   "metadata": {
    "id": "b044c388-8605-490c-a60b-8d4e87fb1bd9"
   },
   "source": [
    "##### [A6] Predict on your ``X_test`` data and evaluate your model using the R2 statistic"
   ]
  },
  {
   "cell_type": "code",
   "execution_count": 10,
   "id": "a220eb4d-f5ba-4bda-91e0-17cead292af9",
   "metadata": {
    "id": "a220eb4d-f5ba-4bda-91e0-17cead292af9",
    "outputId": "93d3b7ec-223e-443a-9b32-03a9729cff34"
   },
   "outputs": [
    {
     "name": "stdout",
     "output_type": "stream",
     "text": [
      "R2 score 0.594817553170663\n",
      "RMSE: 6.598834\n"
     ]
    }
   ],
   "source": [
    "y_pred = linear_regression_model.predict(X_test)\n",
    "\n",
    "rmse = np.sqrt(mean_squared_error(y_test, y_pred))\n",
    "print('R2 score', r2_score(y_test,y_pred))\n",
    "print(\"RMSE: %f\" % (rmse))"
   ]
  },
  {
   "cell_type": "markdown",
   "id": "207bff6e-38fa-4196-8c6d-d25d35149e4a",
   "metadata": {
    "id": "207bff6e-38fa-4196-8c6d-d25d35149e4a"
   },
   "source": [
    "## Lab Activity Two: Multilinear Regression"
   ]
  },
  {
   "cell_type": "markdown",
   "id": "b552e537-77be-4cb4-a0ac-31518a7a21dd",
   "metadata": {
    "id": "b552e537-77be-4cb4-a0ac-31518a7a21dd"
   },
   "source": [
    "Fitting a linear model on data with more than one feature is called multilinear regression. For this activity you will be fitting a multilinear regression on all of the features of the boston dataset.\n",
    "The code cell below prepares the data for you"
   ]
  },
  {
   "cell_type": "code",
   "execution_count": 11,
   "id": "effbb876-f049-4ecd-a042-429629bef1b6",
   "metadata": {
    "id": "effbb876-f049-4ecd-a042-429629bef1b6",
    "outputId": "f4ed788b-11c0-4965-86c6-37bfc1cea882"
   },
   "outputs": [
    {
     "data": {
      "text/html": [
       "<div>\n",
       "<style scoped>\n",
       "    .dataframe tbody tr th:only-of-type {\n",
       "        vertical-align: middle;\n",
       "    }\n",
       "\n",
       "    .dataframe tbody tr th {\n",
       "        vertical-align: top;\n",
       "    }\n",
       "\n",
       "    .dataframe thead th {\n",
       "        text-align: right;\n",
       "    }\n",
       "</style>\n",
       "<table border=\"1\" class=\"dataframe\">\n",
       "  <thead>\n",
       "    <tr style=\"text-align: right;\">\n",
       "      <th></th>\n",
       "      <th>CRIM</th>\n",
       "      <th>ZN</th>\n",
       "      <th>INDUS</th>\n",
       "      <th>CHAS</th>\n",
       "      <th>NOX</th>\n",
       "      <th>RM</th>\n",
       "      <th>AGE</th>\n",
       "      <th>DIS</th>\n",
       "      <th>RAD</th>\n",
       "      <th>TAX</th>\n",
       "      <th>PTRATIO</th>\n",
       "      <th>B</th>\n",
       "      <th>LSTAT</th>\n",
       "      <th>Price</th>\n",
       "    </tr>\n",
       "  </thead>\n",
       "  <tbody>\n",
       "    <tr>\n",
       "      <th>0</th>\n",
       "      <td>0.00632</td>\n",
       "      <td>18.0</td>\n",
       "      <td>2.31</td>\n",
       "      <td>0.0</td>\n",
       "      <td>0.538</td>\n",
       "      <td>6.575</td>\n",
       "      <td>65.2</td>\n",
       "      <td>4.0900</td>\n",
       "      <td>1.0</td>\n",
       "      <td>296.0</td>\n",
       "      <td>15.3</td>\n",
       "      <td>396.90</td>\n",
       "      <td>4.98</td>\n",
       "      <td>24.0</td>\n",
       "    </tr>\n",
       "    <tr>\n",
       "      <th>1</th>\n",
       "      <td>0.02731</td>\n",
       "      <td>0.0</td>\n",
       "      <td>7.07</td>\n",
       "      <td>0.0</td>\n",
       "      <td>0.469</td>\n",
       "      <td>6.421</td>\n",
       "      <td>78.9</td>\n",
       "      <td>4.9671</td>\n",
       "      <td>2.0</td>\n",
       "      <td>242.0</td>\n",
       "      <td>17.8</td>\n",
       "      <td>396.90</td>\n",
       "      <td>9.14</td>\n",
       "      <td>21.6</td>\n",
       "    </tr>\n",
       "    <tr>\n",
       "      <th>2</th>\n",
       "      <td>0.02729</td>\n",
       "      <td>0.0</td>\n",
       "      <td>7.07</td>\n",
       "      <td>0.0</td>\n",
       "      <td>0.469</td>\n",
       "      <td>7.185</td>\n",
       "      <td>61.1</td>\n",
       "      <td>4.9671</td>\n",
       "      <td>2.0</td>\n",
       "      <td>242.0</td>\n",
       "      <td>17.8</td>\n",
       "      <td>392.83</td>\n",
       "      <td>4.03</td>\n",
       "      <td>34.7</td>\n",
       "    </tr>\n",
       "  </tbody>\n",
       "</table>\n",
       "</div>"
      ],
      "text/plain": [
       "      CRIM    ZN  INDUS  CHAS    NOX     RM   AGE     DIS  RAD    TAX  \\\n",
       "0  0.00632  18.0   2.31   0.0  0.538  6.575  65.2  4.0900  1.0  296.0   \n",
       "1  0.02731   0.0   7.07   0.0  0.469  6.421  78.9  4.9671  2.0  242.0   \n",
       "2  0.02729   0.0   7.07   0.0  0.469  7.185  61.1  4.9671  2.0  242.0   \n",
       "\n",
       "   PTRATIO       B  LSTAT  Price  \n",
       "0     15.3  396.90   4.98   24.0  \n",
       "1     17.8  396.90   9.14   21.6  \n",
       "2     17.8  392.83   4.03   34.7  "
      ]
     },
     "execution_count": 11,
     "metadata": {},
     "output_type": "execute_result"
    }
   ],
   "source": [
    "#Target\n",
    "y_2 = boston.target\n",
    "\n",
    "#Features\n",
    "X_2 = boston.data\n",
    "\n",
    "#Creating The full dataframe\n",
    "df = pd.DataFrame(X_2,columns = boston.feature_names)\n",
    "df['Price'] = y_2\n",
    "\n",
    "df.head(3)"
   ]
  },
  {
   "cell_type": "markdown",
   "id": "631d81fd-21f3-4b1e-a194-d88846d6cd81",
   "metadata": {
    "id": "631d81fd-21f3-4b1e-a194-d88846d6cd81"
   },
   "source": [
    "##### [A7] Split, instantiate and fit model using all of the features. Remember to use ``X_2`` and ``y_2`` for the train,test split and use different variable names than the ones used in lab activity one."
   ]
  },
  {
   "cell_type": "code",
   "execution_count": 12,
   "id": "a061e408-0b87-477a-a6b3-9c86fe1f8767",
   "metadata": {
    "id": "a061e408-0b87-477a-a6b3-9c86fe1f8767",
    "outputId": "4ab4f2ba-3fa0-4578-f9b3-9d4a17aceac2"
   },
   "outputs": [
    {
     "data": {
      "text/plain": [
       "LinearRegression()"
      ]
     },
     "execution_count": 12,
     "metadata": {},
     "output_type": "execute_result"
    }
   ],
   "source": [
    "X_train_2, X_test_2, y_train_2, y_test_2 = train_test_split(X_2,y_2,test_size=0.2)\n",
    "\n",
    "linear_regression_model_2 = LinearRegression()\n",
    "linear_regression_model_2.fit(X_train_2, y_train_2)"
   ]
  },
  {
   "cell_type": "markdown",
   "id": "180ba964-5bce-4c3d-be2b-eecc2677b421",
   "metadata": {
    "id": "180ba964-5bce-4c3d-be2b-eecc2677b421"
   },
   "source": [
    "##### [A8] Predict on your test set you split in this activity and evaluate the model."
   ]
  },
  {
   "cell_type": "code",
   "execution_count": 13,
   "id": "f7a13a6e-9f93-4975-9606-3380013d3f8f",
   "metadata": {
    "id": "f7a13a6e-9f93-4975-9606-3380013d3f8f",
    "outputId": "ae556265-6cbf-494e-8d4b-245cf95933b4"
   },
   "outputs": [
    {
     "name": "stdout",
     "output_type": "stream",
     "text": [
      "R2 score 0.7477997547531126\n",
      "RMSE: 4.483504\n"
     ]
    }
   ],
   "source": [
    "y_pred_2 = linear_regression_model_2.predict(X_test_2)\n",
    "\n",
    "\n",
    "rmse = np.sqrt(mean_squared_error(y_test_2, y_pred_2))\n",
    "print('R2 score', r2_score(y_test_2,y_pred_2))\n",
    "print(\"RMSE: %f\" % (rmse))"
   ]
  },
  {
   "cell_type": "markdown",
   "id": "9e813709-b315-46af-982b-ce08cab6cd98",
   "metadata": {
    "id": "9e813709-b315-46af-982b-ce08cab6cd98",
    "tags": []
   },
   "source": [
    "## Lab Activity Three: Regression on Non-Linear Data"
   ]
  },
  {
   "cell_type": "markdown",
   "id": "284c5afa-bef2-4c1d-88f9-21d29f3071fa",
   "metadata": {
    "id": "284c5afa-bef2-4c1d-88f9-21d29f3071fa"
   },
   "source": [
    "When performing a regression analysis, you will find the linear regression algorithm is the simplest approach. However, if the data is non-linear it  may call for using a different algorithm. A decision tree regressor does a good for regression problems that contain non-linear data.\n",
    "- Non-linear Data: there is no linear relationship between the features and the dataset, thus, less likely to fit a 'line-of-best-fit'"
   ]
  },
  {
   "cell_type": "markdown",
   "id": "1b7df1ab-c869-48e4-8ef4-493431924647",
   "metadata": {
    "id": "1b7df1ab-c869-48e4-8ef4-493431924647"
   },
   "source": [
    "##### [A9] Plot a scatter plot of the flowing features listed below vs the target ``y`` (recall y is the price). You can use subplots or 3 different cells for each graph.\n",
    "\n",
    "- **ZN** : proportion of residential land zoned for lots over 25,000 sq.ft.\n",
    "- **INDUS** : proportion of non-retail business acres per town\n",
    "- **RAD** : index of accessibility to radial highways"
   ]
  },
  {
   "cell_type": "code",
   "execution_count": 14,
   "id": "fc5fb2a6-2e9e-4fe4-8166-3aca4436ae2c",
   "metadata": {
    "id": "fc5fb2a6-2e9e-4fe4-8166-3aca4436ae2c",
    "outputId": "40a11749-ad21-47b2-ac7d-fbbe744834d4"
   },
   "outputs": [
    {
     "data": {
      "image/png": "[encoded data removed]",
      "text/plain": [
       "<Figure size 432x288 with 1 Axes>"
      ]
     },
     "metadata": {
      "needs_background": "light"
     },
     "output_type": "display_data"
    }
   ],
   "source": [
    "plt.scatter(X_2[:,1], y,alpha=0.5)\n",
    "plt.show()"
   ]
  },
  {
   "cell_type": "code",
   "execution_count": 15,
   "id": "3409d834-872a-4007-ba1d-2e205c1da989",
   "metadata": {
    "id": "3409d834-872a-4007-ba1d-2e205c1da989",
    "outputId": "f6db7cc8-3698-4068-bad6-561767bb9dd0"
   },
   "outputs": [
    {
     "data": {
      "image/png": "[encoded data removed]",
      "text/plain": [
       "<Figure size 432x288 with 1 Axes>"
      ]
     },
     "metadata": {
      "needs_background": "light"
     },
     "output_type": "display_data"
    }
   ],
   "source": [
    "plt.scatter(X_2[:,2], y,alpha=0.5)\n",
    "plt.show()"
   ]
  },
  {
   "cell_type": "code",
   "execution_count": 16,
   "id": "c9f3d33f-4e84-44d1-9bae-60a1dc5652c9",
   "metadata": {
    "id": "c9f3d33f-4e84-44d1-9bae-60a1dc5652c9",
    "outputId": "cbd487e0-022b-4c30-d5f1-f6018bcc7b5c"
   },
   "outputs": [
    {
     "data": {
      "image/png": "[encoded data removed]",
      "text/plain": [
       "<Figure size 432x288 with 1 Axes>"
      ]
     },
     "metadata": {
      "needs_background": "light"
     },
     "output_type": "display_data"
    }
   ],
   "source": [
    "plt.scatter(X_2[:,8], y,alpha=0.5)\n",
    "plt.show()"
   ]
  },
  {
   "cell_type": "markdown",
   "id": "364f2d50-9b7a-49f6-8197-e2795880b255",
   "metadata": {
    "id": "364f2d50-9b7a-49f6-8197-e2795880b255"
   },
   "source": [
    "You will notice that these features don't have a linear relationship with the price (target). There is non-linearity in the data. This is where a different reggression model will give us better results."
   ]
  },
  {
   "cell_type": "markdown",
   "id": "4aa53ac4-9bd6-473f-af93-7a08063e06d9",
   "metadata": {
    "id": "4aa53ac4-9bd6-473f-af93-7a08063e06d9"
   },
   "source": [
    "##### [A10] You will now be building a Decision Tree Regressor model. Instantiate and fit the DT regressor using the same training data from lab activity two."
   ]
  },
  {
   "cell_type": "code",
   "execution_count": 17,
   "id": "6288d254-b46b-4790-a98a-8d46a26271da",
   "metadata": {
    "id": "6288d254-b46b-4790-a98a-8d46a26271da",
    "outputId": "1420a2ef-8ece-4920-ef51-91a65ca4fd90"
   },
   "outputs": [
    {
     "data": {
      "text/plain": [
       "DecisionTreeRegressor()"
      ]
     },
     "execution_count": 17,
     "metadata": {},
     "output_type": "execute_result"
    }
   ],
   "source": [
    "from sklearn.tree import DecisionTreeRegressor\n",
    "\n",
    "dt_regressor = DecisionTreeRegressor()\n",
    "dt_regressor.fit(X_train_2, y_train_2)"
   ]
  },
  {
   "cell_type": "markdown",
   "id": "0612e019-cad6-4fac-8a8e-cffb563c17c4",
   "metadata": {
    "id": "0612e019-cad6-4fac-8a8e-cffb563c17c4"
   },
   "source": [
    "##### [A11] Predict on your test data (same test data from activity two) and evaluate your model. Remember to use different variable names where appropriate. "
   ]
  },
  {
   "cell_type": "code",
   "execution_count": 18,
   "id": "8b94d5dd-f34a-4586-826b-3cffec7351fb",
   "metadata": {
    "id": "8b94d5dd-f34a-4586-826b-3cffec7351fb",
    "outputId": "fb1e15ae-41cc-4afb-af2b-13bca319800b"
   },
   "outputs": [
    {
     "name": "stdout",
     "output_type": "stream",
     "text": [
      "R2 score 0.7554153430345929\n",
      "RMSE: 4.415292\n"
     ]
    }
   ],
   "source": [
    "y_pred_3 = dt_regressor.predict(X_test_2)\n",
    "\n",
    "rmse = np.sqrt(mean_squared_error(y_test_2, y_pred_3))\n",
    "print('R2 score', r2_score(y_test_2,y_pred_3))\n",
    "print(\"RMSE: %f\" % (rmse))"
   ]
  }
 ],
 "metadata": {
  "colab": {
   "collapsed_sections": [],
   "name": "ML_1_Lab_3_(Instructors).ipynb",
   "provenance": []
  },
  "kernelspec": {
   "display_name": "Python 3 (ipykernel)",
   "language": "python",
   "name": "python3"
  },
  "language_info": {
   "codemirror_mode": {
    "name": "ipython",
    "version": 3
   },
   "file_extension": ".py",
   "mimetype": "text/x-python",
   "name": "python",
   "nbconvert_exporter": "python",
   "pygments_lexer": "ipython3",
   "version": "3.9.7"
  }
 },
 "nbformat": 4,
 "nbformat_minor": 5
}
