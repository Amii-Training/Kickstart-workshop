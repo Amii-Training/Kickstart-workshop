{
 "cells": [
  {
   "cell_type": "markdown",
   "id": "b9214609-92fc-4e80-a22c-70f7698ae535",
   "metadata": {},
   "source": [
    "<i>Written by: Ahsan Khan, On behalf of Alberta Machine Intelligence Institute for the Al Pathways Partnership supported by Prairies Economic Development Canada</i>"
   ]
  },
  {
   "cell_type": "markdown",
   "id": "d486b609-4985-49a9-bf44-82b3f6692afb",
   "metadata": {},
   "source": [
    "# Lab: Computer Vision"
   ]
  },
  {
   "cell_type": "code",
   "execution_count": 1,
   "id": "28d6524d-069c-45a8-b72b-2b49517dcc2e",
   "metadata": {},
   "outputs": [],
   "source": [
    "import urllib.request\n",
    "from PIL import Image\n",
    "import matplotlib.pyplot as plt\n",
    "import numpy as np"
   ]
  },
  {
   "cell_type": "markdown",
   "id": "b34dbb64-5d35-422b-b2c0-1cf9ad83c333",
   "metadata": {},
   "source": [
    "Retrieving image from a link"
   ]
  },
  {
   "cell_type": "code",
   "execution_count": null,
   "id": "43067d71-a197-4d66-bd05-2af6dbd3618a",
   "metadata": {},
   "outputs": [],
   "source": [
    "urllib.request.urlretrieve(\n",
    "  'https://media.istockphoto.com/photos/skyline-of-downtown-edmonton-alberta-canada-at-twilight-picture-id1279220699?b=1&k=20&m=1279220699&s=170667a&w=0&h=9ARNx2BH-clzkU8VSqV5yH9Sr_yTJfs9b9_ZS217SCk=',\n",
    "   \"edmonton.png\")\n",
    "  \n",
    "img = Image.open(\"edmonton.png\")\n",
    "#plt.imshow(img)\n",
    "img"
   ]
  },
  {
   "cell_type": "markdown",
   "id": "71b053ba-ba9c-415c-a2cf-5180b08822db",
   "metadata": {},
   "source": [
    "## Activity One: Image Processing"
   ]
  },
  {
   "cell_type": "markdown",
   "id": "c3ac6323-64cc-47cf-a51d-a7d16d28ccd0",
   "metadata": {},
   "source": [
    "For this first activity you will be performing some image processing"
   ]
  },
  {
   "cell_type": "markdown",
   "id": "9ff40daf-6cfd-4aa2-a1f7-70c1d39dbec8",
   "metadata": {},
   "source": [
    "##### [A] Convert the image into a numpy array and display the array"
   ]
  },
  {
   "cell_type": "code",
   "execution_count": null,
   "id": "b5ab1683-53d2-4c02-ae28-84f540be1029",
   "metadata": {},
   "outputs": [],
   "source": [
    "image = np.array(img)\n",
    "image"
   ]
  },
  {
   "cell_type": "markdown",
   "id": "ef0c56dc-77f2-4eaf-9260-f4785c10688e",
   "metadata": {},
   "source": [
    "##### [A] The image has 3 color channels (RGB). Make a copy of the original image and display the new copy image in blue only (red and green channels set to 0)"
   ]
  },
  {
   "cell_type": "code",
   "execution_count": null,
   "id": "da8e3491-94cf-4c5c-8143-34fcf115827d",
   "metadata": {},
   "outputs": [],
   "source": [
    "non_rgb_image = image.copy()\n",
    "non_rgb_image[:, :, 0] = 0\n",
    "non_rgb_image[:, :, 1] = 0\n",
    "\n",
    "plt.imshow(non_rgb_image)"
   ]
  },
  {
   "cell_type": "markdown",
   "id": "637cf4e9-ae1f-48d4-9ece-b78360124ece",
   "metadata": {},
   "source": [
    "##### [A] Slice the image to only show the bridge (some part of the bridge can be cut but the displayed image should mostly contain the bridge)."
   ]
  },
  {
   "cell_type": "code",
   "execution_count": null,
   "id": "e29bf4a3-f42e-46bb-afcb-bda12f907b5d",
   "metadata": {},
   "outputs": [],
   "source": [
    "plt.imshow(image[170:290,35:175,:])"
   ]
  },
  {
   "cell_type": "markdown",
   "id": "c3b4faf7-72af-4dfb-8b3b-49bcb915f4b6",
   "metadata": {},
   "source": [
    "##### [A] Sharpen the image using open cv library (Can use any filter of your choice - read the documentation)"
   ]
  },
  {
   "cell_type": "code",
   "execution_count": null,
   "id": "ab3e0d19-b14b-4403-a5c4-67e6d68f159b",
   "metadata": {},
   "outputs": [],
   "source": [
    "import cv2"
   ]
  },
  {
   "cell_type": "code",
   "execution_count": null,
   "id": "9f17d1b0-a9aa-4ef3-a838-d5111f2ffd92",
   "metadata": {},
   "outputs": [],
   "source": [
    "kernel = np.array([[0, -1, 0], [-1, 5,-1], [0, -1, 0]])\n",
    "sharpened_image = cv2.filter2D(image, -1, kernel)\n",
    "plt.imshow(sharpened_image)"
   ]
  },
  {
   "cell_type": "markdown",
   "id": "930e0a9d",
   "metadata": {},
   "source": [
    "**Interactive HSV Filter**"
   ]
  },
  {
   "cell_type": "code",
   "execution_count": null,
   "id": "94361762",
   "metadata": {},
   "outputs": [],
   "source": [
    "import cv2\n",
    "from ipywidgets import *\n",
    "\n",
    "def f(hMin, hMax, Smin, Smax, Vmin, Vmax):\n",
    "    raw_img = cv2.imread('edmonton.png')\n",
    "    img = cv2.cvtColor(raw_img ,cv2.COLOR_BGR2RGB)  \n",
    "    hsv = cv2.cvtColor(img, cv2.COLOR_RGB2HSV)\n",
    "    Lhsv = np.array([hMin, Smin, Vmin])\n",
    "    Uhsv = np.array([hMax, Smax, Vmax])\n",
    "    mask = cv2.inRange(hsv,Lhsv ,Uhsv)\n",
    "    r = cv2.bitwise_and(img, img, mask=mask)\n",
    "    plt.imshow(r)\n",
    "  \n",
    "    \n",
    "interactive(f, hMin=(0,255), hMax=(0,255), Smin=(0,255), Smax=(0,255), Vmin=(0,255), Vmax=(0,255))"
   ]
  },
  {
   "cell_type": "markdown",
   "id": "5ecb26db-8a82-47a8-b82e-600a2a87d742",
   "metadata": {},
   "source": [
    "##### [A] Normalize the picture of edmonton "
   ]
  },
  {
   "cell_type": "markdown",
   "id": "41d08899-f7bb-4169-b2d4-45d8ca431d9a",
   "metadata": {},
   "source": [
    "## Activity Two: Image Classification"
   ]
  },
  {
   "cell_type": "markdown",
   "id": "14fc1ae0-f4bb-4065-9d15-c28e77eed8ae",
   "metadata": {},
   "source": [
    "In the previous machine learning course (ML 1) during your last lab you were introduced to the mnist dataset. You were required to classify each number using a logistic regression. This time you will be classifying the numbers using a neural network."
   ]
  },
  {
   "cell_type": "code",
   "execution_count": 2,
   "id": "418b3204-2ad1-4472-9a37-9e89b87ec304",
   "metadata": {},
   "outputs": [],
   "source": [
    "from keras.datasets import mnist\n",
    "from tensorflow.keras.models import Sequential\n",
    "from tensorflow.keras.layers import Dense, Conv2D, Dropout, Flatten, MaxPooling2D\n",
    "import tensorflow as tf\n",
    "\n",
    "(train_X, train_y), (test_X, test_y) = mnist.load_data()"
   ]
  },
  {
   "cell_type": "markdown",
   "id": "fe924585-ae4e-40be-9506-741a986e2977",
   "metadata": {},
   "source": [
    "##### [A} Display the very first element (number) in the train_X set"
   ]
  },
  {
   "cell_type": "code",
   "execution_count": 3,
   "id": "fc47fe06-6a08-4f01-8182-b6d78fcd6cef",
   "metadata": {},
   "outputs": [
    {
     "data": {
      "text/plain": [
       "<matplotlib.image.AxesImage at 0x7fef29ccbe20>"
      ]
     },
     "execution_count": 3,
     "metadata": {},
     "output_type": "execute_result"
    },
    {
     "data": {
      "image/png": "[encoded data removed]",
      "text/plain": [
       "<Figure size 432x288 with 1 Axes>"
      ]
     },
     "metadata": {
      "needs_background": "light"
     },
     "output_type": "display_data"
    }
   ],
   "source": [
    "plt.imshow(train_X[1])"
   ]
  },
  {
   "cell_type": "markdown",
   "id": "88d9166c-469e-4dd2-b850-2b4d1ed9b676",
   "metadata": {},
   "source": [
    "##### [A] Verify the y label for the very first element in the train_y set so it matches with the X element above"
   ]
  },
  {
   "cell_type": "code",
   "execution_count": 4,
   "id": "7bf13dee-0d47-407d-b8ee-6f270117fd17",
   "metadata": {},
   "outputs": [
    {
     "data": {
      "text/plain": [
       "0"
      ]
     },
     "execution_count": 4,
     "metadata": {},
     "output_type": "execute_result"
    }
   ],
   "source": [
    "train_y[1]"
   ]
  },
  {
   "cell_type": "markdown",
   "id": "7ae4a453-e8e2-47da-9646-5b89086c1521",
   "metadata": {},
   "source": [
    "##### [A] Normalize your images (divide by 255)"
   ]
  },
  {
   "cell_type": "code",
   "execution_count": 5,
   "id": "f62accfa-896a-4c40-a2c8-2a61086e15ba",
   "metadata": {},
   "outputs": [],
   "source": [
    "train_X = train_X/255\n",
    "test_X = test_X/255"
   ]
  },
  {
   "cell_type": "markdown",
   "id": "8b28d7ee-cfa7-46b3-967c-54b69bafc113",
   "metadata": {},
   "source": [
    "##### [A] Build a neural network architecture aside from the dense layers, include maxpooling, flattening layers, and dropouts."
   ]
  },
  {
   "cell_type": "code",
   "execution_count": 8,
   "id": "fe9d2430-f5a6-45bc-87bd-e02e2a51c813",
   "metadata": {},
   "outputs": [],
   "source": [
    "model = Sequential()\n",
    "model.add(Conv2D(28, kernel_size=(3,3), input_shape=(28,28,1)))\n",
    "model.add(MaxPooling2D(pool_size=(2, 2)))\n",
    "model.add(Flatten()) # Flattening the 2D arrays for fully connected layers\n",
    "model.add(Dense(128, activation=tf.nn.relu))\n",
    "model.add(Dropout(0.1))\n",
    "model.add(Dense(10,activation=tf.nn.softmax))"
   ]
  },
  {
   "cell_type": "markdown",
   "id": "f40fc58d",
   "metadata": {},
   "source": [
    "**Visualize your neural network model**"
   ]
  },
  {
   "cell_type": "code",
   "execution_count": 9,
   "id": "5c66c73b",
   "metadata": {},
   "outputs": [
    {
     "name": "stdout",
     "output_type": "stream",
     "text": [
      "You must install pydot (`pip install pydot`) and install graphviz (see instructions at https://graphviz.gitlab.io/download/) for plot_model/model_to_dot to work.\n"
     ]
    }
   ],
   "source": [
    "from keras.utils.vis_utils import plot_model\n",
    "plot_model(model, to_file='model_plot.png', show_shapes=True, show_layer_names=True)"
   ]
  },
  {
   "cell_type": "markdown",
   "id": "b5d7d5ab-f98b-4af9-8938-faeb6bc5d322",
   "metadata": {},
   "source": [
    "##### [A] Compile and fit your image data on your network"
   ]
  },
  {
   "cell_type": "code",
   "execution_count": null,
   "id": "e01aaf64-cf48-409f-b6a3-443900eb4ca1",
   "metadata": {},
   "outputs": [],
   "source": [
    "model.compile(optimizer='adam', \n",
    "              loss='sparse_categorical_crossentropy', \n",
    "              metrics=['accuracy'])\n",
    "model.fit(x=train_X,y=train_y, epochs=10)"
   ]
  },
  {
   "cell_type": "markdown",
   "id": "36df303d-ff2d-45da-b6aa-a995f6ec7b04",
   "metadata": {},
   "source": [
    "#### [A] Evaluate your model and make predictions on a few elements (number images) from the test set."
   ]
  },
  {
   "cell_type": "code",
   "execution_count": null,
   "id": "364619dc-39ff-48a6-aa18-ea8132a3a8fd",
   "metadata": {},
   "outputs": [],
   "source": [
    "model.evaluate(test_X, test_y)"
   ]
  },
  {
   "cell_type": "code",
   "execution_count": null,
   "id": "b268698e-a70f-411a-a9b5-d07ffb986037",
   "metadata": {},
   "outputs": [],
   "source": [
    "pred = model.predict(test_X[75].reshape(1, 28, 28, 1))\n",
    "#pred = model.predict(test_X[50])"
   ]
  },
  {
   "cell_type": "code",
   "execution_count": null,
   "id": "6e41af47-7f12-40b0-b57c-098a09a4c517",
   "metadata": {},
   "outputs": [],
   "source": [
    "plt.imshow(test_X[75])"
   ]
  },
  {
   "cell_type": "code",
   "execution_count": null,
   "id": "7bb6fb68-0580-4397-8372-b956c9f26cd1",
   "metadata": {},
   "outputs": [],
   "source": [
    "print(pred.argmax())"
   ]
  },
  {
   "cell_type": "markdown",
   "id": "898092b9-135e-463a-86f8-c044fc87af3f",
   "metadata": {
    "tags": []
   },
   "source": [
    "### Maybe Activity 3"
   ]
  }
 ],
 "metadata": {
  "kernelspec": {
   "display_name": "Python 3 (ipykernel)",
   "language": "python",
   "name": "python3"
  },
  "language_info": {
   "codemirror_mode": {
    "name": "ipython",
    "version": 3
   },
   "file_extension": ".py",
   "mimetype": "text/x-python",
   "name": "python",
   "nbconvert_exporter": "python",
   "pygments_lexer": "ipython3",
   "version": "3.8.13"
  }
 },
 "nbformat": 4,
 "nbformat_minor": 5
}
